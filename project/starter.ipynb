{
 "cells": [
  {
   "cell_type": "markdown",
   "metadata": {},
   "source": [
    "# Deploy and monitor a machine learning workflow for Image Classification"
   ]
  },
  {
   "cell_type": "markdown",
   "metadata": {},
   "source": [
    "## Setting up this notebook\n",
    "\n",
    "Notes about the instance size and kernel setup: this notebook has been tested on\n",
    "\n",
    "1. The `Python 3 (Data Science)` kernel\n",
    "2. The `ml.t3.medium` instance\n",
    "\n",
    "## Data Staging\n",
    "\n",
    "We'll use a sample dataset called CIFAR to simulate the challenges Scones Unlimited are facing in Image Classification. In order to start working with CIFAR we'll need to:\n",
    "\n",
    "1. Extract the data from a hosting service\n",
    "2. Transform it into a usable shape and format\n",
    "3. Load it into a production system\n",
    "\n",
    "In other words, we're going to do some simple ETL!\n",
    "\n",
    "### 1. Extract the data from the hosting service\n",
    "\n",
    "In the cell below, define a function `extract_cifar_data` that extracts python version of the CIFAR-100 dataset. The CIFAR dataaset is open source and generously hosted by the University of Toronto at: https://www.cs.toronto.edu/~kriz/cifar-100-python.tar.gz \n",
    "\n",
    "https://www.cs.toronto.edu/~kriz/cifar.html"
   ]
  },
  {
   "cell_type": "code",
   "execution_count": 2,
   "metadata": {},
   "outputs": [],
   "source": [
    "import requests\n",
    "#?requests.get\n",
    "import tarfile\n",
    "import pickle\n",
    "import numpy as np\n",
    "import matplotlib.pyplot as plt\n",
    "import pandas as pd\n",
    "import os\n",
    "import boto3\n",
    "import json\n",
    "import base64\n",
    "import random\n",
    "import sagemaker\n",
    "from sagemaker.session import Session\n",
    "from sagemaker import get_execution_role\n",
    "from sagemaker.debugger import Rule, rule_configs\n",
    "from sagemaker.session import TrainingInput\n",
    "from sagemaker.model_monitor import DataCaptureConfig\n",
    "from sagemaker.predictor import Predictor\n",
    "from sagemaker.serializers import IdentitySerializer\n",
    "from sagemaker.s3 import S3Downloader"
   ]
  },
  {
   "cell_type": "code",
   "execution_count": 3,
   "metadata": {},
   "outputs": [],
   "source": [
    "role = get_execution_role()\n",
    "session = sagemaker.Session()\n",
    "region = session.boto_region_name\n",
    "bucket = session.default_bucket()"
   ]
  },
  {
   "cell_type": "code",
   "execution_count": 4,
   "metadata": {},
   "outputs": [
    {
     "name": "stdout",
     "output_type": "stream",
     "text": [
      "role: arn:aws:iam::368907551342:role/service-role/AmazonSageMaker-ExecutionRole-20211213T085910\n",
      "session: <sagemaker.session.Session object at 0x7fc125f7cf10>\n",
      "region: us-east-1\n",
      "bucket: sagemaker-us-east-1-368907551342\n"
     ]
    }
   ],
   "source": [
    "print(f\"role: {role}\")\n",
    "print(f\"session: {session}\")\n",
    "print(f\"region: {region}\")\n",
    "print(f\"bucket: {bucket}\")"
   ]
  },
  {
   "cell_type": "code",
   "execution_count": 5,
   "metadata": {},
   "outputs": [],
   "source": [
    "os.environ[\"DEFAULT_S3_BUCKET\"] = bucket"
   ]
  },
  {
   "cell_type": "code",
   "execution_count": 6,
   "metadata": {},
   "outputs": [],
   "source": [
    "def extract_cifar_data(url, filename=\"cifar.tar.gz\"):\n",
    "    \"\"\"A function for extracting the CIFAR-100 dataset and storing it as a gzipped file\n",
    "    \n",
    "    Arguments:\n",
    "    url      -- the URL where the dataset is hosted\n",
    "    filename -- the full path where the dataset will be written\n",
    "    \n",
    "    \"\"\"\n",
    "    \n",
    "    # Todo: request the data from the data url\n",
    "    # Hint: use `requests.get` method\n",
    "    r = requests.get(url)\n",
    "    with open(filename, \"wb\") as file_context:\n",
    "        file_context.write(r.content)\n",
    "    return"
   ]
  },
  {
   "cell_type": "markdown",
   "metadata": {},
   "source": [
    "Let's test it out! Run the following cell and check whether a new file `cifar.tar.gz` is created in the file explorer."
   ]
  },
  {
   "cell_type": "code",
   "execution_count": 4,
   "metadata": {},
   "outputs": [],
   "source": [
    "extract_cifar_data(\"https://www.cs.toronto.edu/~kriz/cifar-100-python.tar.gz\")     "
   ]
  },
  {
   "cell_type": "markdown",
   "metadata": {},
   "source": [
    "### 2. Transform the data into a usable shape and format\n",
    "\n",
    "Clearly, distributing the data as a gzipped archive makes sense for the hosting service! It saves on bandwidth, storage, and it's a widely-used archive format. In fact, it's so widely used that the Python community ships a utility for working with them, `tarfile`, as part of its Standard Library. Execute the following cell to decompress your extracted dataset:"
   ]
  },
  {
   "cell_type": "code",
   "execution_count": 5,
   "metadata": {},
   "outputs": [],
   "source": [
    "with tarfile.open(\"cifar.tar.gz\", \"r:gz\") as tar:\n",
    "    tar.extractall()"
   ]
  },
  {
   "cell_type": "markdown",
   "metadata": {},
   "source": [
    "A new folder `cifar-100-python` should be created, containing `meta`, `test`, and `train` files. These files are `pickles` and the [CIFAR homepage](https://www.cs.toronto.edu/~kriz/cifar.html) provides a simple script that can be used to load them. We've adapted the script below for you to run:"
   ]
  },
  {
   "cell_type": "code",
   "execution_count": 6,
   "metadata": {},
   "outputs": [],
   "source": [
    "def unpickle(file):\n",
    "    # From https://www.cs.toronto.edu/~kriz/cifar.html\n",
    "    import pickle\n",
    "    with open(file, 'rb') as fo:\n",
    "        dict = pickle.load(fo, encoding='bytes')\n",
    "    return dict\n",
    "\n",
    "dataset_meta = unpickle(\"./cifar-100-python/meta\")\n",
    "dataset_test = unpickle(\"./cifar-100-python/test\")\n",
    "dataset_train = unpickle(\"./cifar-100-python/train\")"
   ]
  },
  {
   "cell_type": "code",
   "execution_count": 7,
   "metadata": {},
   "outputs": [
    {
     "data": {
      "text/plain": [
       "dict_keys([b'filenames', b'batch_label', b'fine_labels', b'coarse_labels', b'data'])"
      ]
     },
     "execution_count": 7,
     "metadata": {},
     "output_type": "execute_result"
    }
   ],
   "source": [
    "# Feel free to explore the datasets\n",
    "dataset_train.keys()"
   ]
  },
  {
   "cell_type": "code",
   "execution_count": 8,
   "metadata": {},
   "outputs": [
    {
     "name": "stdout",
     "output_type": "stream",
     "text": [
      "b'filenames' <class 'list'>\n",
      "b'batch_label' <class 'bytes'>\n",
      "b'fine_labels' <class 'list'>\n",
      "b'coarse_labels' <class 'list'>\n",
      "b'data' <class 'numpy.ndarray'>\n"
     ]
    }
   ],
   "source": [
    "for item in dataset_train:\n",
    "    print(item, type(dataset_train[item]))"
   ]
  },
  {
   "cell_type": "code",
   "execution_count": 9,
   "metadata": {},
   "outputs": [
    {
     "name": "stdout",
     "output_type": "stream",
     "text": [
      "b'bos_taurus_s_000507.png'\n",
      "19\n",
      "[255 255 255 ...  10  59  79]\n",
      "b'stegosaurus_s_000125.png'\n",
      "29\n",
      "[255 253 253 ... 253 253 255]\n",
      "len(dataset_train[b'filenames']): 50000\n",
      "len(dataset_test[b'filenames']): 10000\n",
      "len(dataset_train[b'fine_labels']): 50000\n",
      "len(dataset_test[b'fine_labels']): 10000\n",
      "len(dataset_train[b'data']): 50000\n",
      "len(dataset_test[b'data']): 10000\n"
     ]
    }
   ],
   "source": [
    "for i in range(2):\n",
    "    print( dataset_train[b'filenames'][i] )\n",
    "    print( dataset_train[b'fine_labels'][i] )\n",
    "    print( dataset_train[b'data'][i] )\n",
    "    \n",
    "print( f\"len(dataset_train[b'filenames']): {len(dataset_train[b'filenames'])}\" )\n",
    "print( f\"len(dataset_test[b'filenames']): {len(dataset_test[b'filenames'])}\" )\n",
    "\n",
    "print( f\"len(dataset_train[b'fine_labels']): {len(dataset_train[b'fine_labels'])}\" )\n",
    "print( f\"len(dataset_test[b'fine_labels']): {len(dataset_test[b'fine_labels'])}\" )\n",
    "\n",
    "print( f\"len(dataset_train[b'data']): {len(dataset_train[b'data'])}\" )\n",
    "print( f\"len(dataset_test[b'data']): {len(dataset_test[b'data'])}\" )\n"
   ]
  },
  {
   "cell_type": "code",
   "execution_count": 10,
   "metadata": {},
   "outputs": [
    {
     "data": {
      "text/plain": [
       "dict_keys([b'fine_label_names', b'coarse_label_names'])"
      ]
     },
     "execution_count": 10,
     "metadata": {},
     "output_type": "execute_result"
    }
   ],
   "source": [
    "dataset_meta.keys()"
   ]
  },
  {
   "cell_type": "code",
   "execution_count": 11,
   "metadata": {},
   "outputs": [
    {
     "name": "stdout",
     "output_type": "stream",
     "text": [
      "b'fine_label_names' <class 'list'>\n",
      "b'coarse_label_names' <class 'list'>\n"
     ]
    }
   ],
   "source": [
    "for item in dataset_meta:\n",
    "    print(item, type(dataset_meta[item]))"
   ]
  },
  {
   "cell_type": "code",
   "execution_count": 12,
   "metadata": {},
   "outputs": [
    {
     "name": "stdout",
     "output_type": "stream",
     "text": [
      "Fine labels: [b'apple', b'aquarium_fish', b'baby', b'bear', b'beaver', b'bed', b'bee', b'beetle', b'bicycle', b'bottle', b'bowl', b'boy', b'bridge', b'bus', b'butterfly', b'camel', b'can', b'castle', b'caterpillar', b'cattle', b'chair', b'chimpanzee', b'clock', b'cloud', b'cockroach', b'couch', b'crab', b'crocodile', b'cup', b'dinosaur', b'dolphin', b'elephant', b'flatfish', b'forest', b'fox', b'girl', b'hamster', b'house', b'kangaroo', b'keyboard', b'lamp', b'lawn_mower', b'leopard', b'lion', b'lizard', b'lobster', b'man', b'maple_tree', b'motorcycle', b'mountain', b'mouse', b'mushroom', b'oak_tree', b'orange', b'orchid', b'otter', b'palm_tree', b'pear', b'pickup_truck', b'pine_tree', b'plain', b'plate', b'poppy', b'porcupine', b'possum', b'rabbit', b'raccoon', b'ray', b'road', b'rocket', b'rose', b'sea', b'seal', b'shark', b'shrew', b'skunk', b'skyscraper', b'snail', b'snake', b'spider', b'squirrel', b'streetcar', b'sunflower', b'sweet_pepper', b'table', b'tank', b'telephone', b'television', b'tiger', b'tractor', b'train', b'trout', b'tulip', b'turtle', b'wardrobe', b'whale', b'willow_tree', b'wolf', b'woman', b'worm'] \n",
      "\n",
      "Coarse labels: [b'aquatic_mammals', b'fish', b'flowers', b'food_containers', b'fruit_and_vegetables', b'household_electrical_devices', b'household_furniture', b'insects', b'large_carnivores', b'large_man-made_outdoor_things', b'large_natural_outdoor_scenes', b'large_omnivores_and_herbivores', b'medium_mammals', b'non-insect_invertebrates', b'people', b'reptiles', b'small_mammals', b'trees', b'vehicles_1', b'vehicles_2']\n"
     ]
    }
   ],
   "source": [
    "print(\"Fine labels:\", dataset_meta[b'fine_label_names'], \"\\n\")\n",
    "print(\"Coarse labels:\", dataset_meta[b'coarse_label_names'])"
   ]
  },
  {
   "cell_type": "markdown",
   "metadata": {},
   "source": [
    "As documented on the homepage, `b'data'` contains rows of 3073 unsigned integers, representing three channels (red, green, and blue) for one 32x32 pixel image per row."
   ]
  },
  {
   "cell_type": "code",
   "execution_count": 13,
   "metadata": {},
   "outputs": [
    {
     "data": {
      "text/plain": [
       "3072"
      ]
     },
     "execution_count": 13,
     "metadata": {},
     "output_type": "execute_result"
    }
   ],
   "source": [
    "32*32*3"
   ]
  },
  {
   "cell_type": "markdown",
   "metadata": {},
   "source": [
    "For a simple gut-check, let's transform one of our images. Each 1024 items in a row is a channel (red, green, then blue). Each 32 items in the channel are a row in the 32x32 image. Using python, we can stack these channels into a 32x32x3 array, and save it as a PNG file:"
   ]
  },
  {
   "cell_type": "code",
   "execution_count": null,
   "metadata": {},
   "outputs": [],
   "source": [
    "# Each 1024 in a row is a channel (red, green, then blue)\n",
    "row = dataset_train[b'data'][0]\n",
    "red, green, blue = row[0:1024], row[1024:2048], row[2048:]\n",
    "\n",
    "# Each 32 items in the channel are a row in the 32x32 image\n",
    "red = red.reshape(32,32)\n",
    "green = green.reshape(32,32)\n",
    "blue = blue.reshape(32,32)\n",
    "\n",
    "# Combine the channels into a 32x32x3 image!\n",
    "combined = np.dstack((red,green,blue))"
   ]
  },
  {
   "cell_type": "markdown",
   "metadata": {},
   "source": [
    "For a more concise version, consider the following:"
   ]
  },
  {
   "cell_type": "code",
   "execution_count": 15,
   "metadata": {},
   "outputs": [],
   "source": [
    "# All in one:\n",
    "test_image = np.dstack((\n",
    "    row[0:1024].reshape(32,32),\n",
    "    row[1024:2048].reshape(32,32),\n",
    "    row[2048:].reshape(32,32)\n",
    "))"
   ]
  },
  {
   "cell_type": "code",
   "execution_count": 16,
   "metadata": {},
   "outputs": [
    {
     "data": {
      "image/png": "[encoded data removed]",
      "text/plain": [
       "<Figure size 432x288 with 1 Axes>"
      ]
     },
     "metadata": {
      "needs_background": "light"
     },
     "output_type": "display_data"
    }
   ],
   "source": [
    "plt.imshow(test_image);"
   ]
  },
  {
   "cell_type": "markdown",
   "metadata": {},
   "source": [
    "Looks like a cow! Let's check the label. `dataset_meta` contains label names in order, and `dataset_train` has a list of labels for each row."
   ]
  },
  {
   "cell_type": "code",
   "execution_count": 17,
   "metadata": {},
   "outputs": [
    {
     "data": {
      "text/plain": [
       "19"
      ]
     },
     "execution_count": 17,
     "metadata": {},
     "output_type": "execute_result"
    }
   ],
   "source": [
    "dataset_train[b'fine_labels'][0]"
   ]
  },
  {
   "cell_type": "markdown",
   "metadata": {},
   "source": [
    "Our image has a label of `19`, so let's see what the 19th item is in the list of label names."
   ]
  },
  {
   "cell_type": "code",
   "execution_count": 18,
   "metadata": {},
   "outputs": [
    {
     "name": "stdout",
     "output_type": "stream",
     "text": [
      "b'cattle'\n"
     ]
    }
   ],
   "source": [
    "print(dataset_meta[b'fine_label_names'][19])"
   ]
  },
  {
   "cell_type": "markdown",
   "metadata": {},
   "source": [
    "Ok! 'cattle' sounds about right. By the way, using the previous two lines we can do:"
   ]
  },
  {
   "cell_type": "code",
   "execution_count": 19,
   "metadata": {},
   "outputs": [
    {
     "name": "stdout",
     "output_type": "stream",
     "text": [
      "b'cattle'\n"
     ]
    }
   ],
   "source": [
    "n = 0\n",
    "print(dataset_meta[b'fine_label_names'][dataset_train[b'fine_labels'][n]])"
   ]
  },
  {
   "cell_type": "markdown",
   "metadata": {},
   "source": [
    "Now we know how to check labels, is there a way that we can also check file names? `dataset_train` also contains a `b'filenames'` key. Let's see what we have here:"
   ]
  },
  {
   "cell_type": "code",
   "execution_count": 20,
   "metadata": {},
   "outputs": [
    {
     "name": "stdout",
     "output_type": "stream",
     "text": [
      "b'bos_taurus_s_000507.png'\n"
     ]
    }
   ],
   "source": [
    "print(dataset_train[b'filenames'][0])"
   ]
  },
  {
   "cell_type": "markdown",
   "metadata": {},
   "source": [
    "\"Taurus\" is the name of a subspecies of cattle, so this looks like a pretty reasonable filename. To save an image we can also do:"
   ]
  },
  {
   "cell_type": "code",
   "execution_count": 21,
   "metadata": {},
   "outputs": [],
   "source": [
    "plt.imsave(\"file.png\", test_image)"
   ]
  },
  {
   "cell_type": "markdown",
   "metadata": {},
   "source": [
    "Your new PNG file should now appear in the file explorer -- go ahead and pop it open to see!\n",
    "\n",
    "Now that you know how to reshape the images, save them as files, and capture their filenames and labels, let's just capture all the bicycles and motorcycles and save them. Scones Unlimited can use a model that tells these apart to route delivery drivers automatically.\n",
    "\n",
    "In the following cell, identify the label numbers for Bicycles and Motorcycles:"
   ]
  },
  {
   "cell_type": "code",
   "execution_count": 22,
   "metadata": {},
   "outputs": [
    {
     "name": "stdout",
     "output_type": "stream",
     "text": [
      "label_bicycle: 8\n",
      "label_motorcycle: 48\n"
     ]
    }
   ],
   "source": [
    "# Todo: Filter the dataset_train and dataset_meta objects to find the label numbers for Bicycle and Motorcycles\n",
    "# ??? puzzled why we'd need to filter dataset_train for this ???\n",
    "\n",
    "label_bicycle = dataset_meta[b'fine_label_names'].index(b'bicycle')\n",
    "label_motorcycle = dataset_meta[b'fine_label_names'].index(b'motorcycle')\n",
    "\n",
    "print( f\"label_bicycle: {label_bicycle}\" )\n",
    "print( f\"label_motorcycle: {label_motorcycle}\" )"
   ]
  },
  {
   "cell_type": "markdown",
   "metadata": {},
   "source": [
    "Good job! We only need objects with label 8 and 48 -- this drastically simplifies our handling of the data! Below we construct a dataframe for you, and you can safely drop the rows that don't contain observations about bicycles and motorcycles. Fill in the missing lines below to drop all other rows:"
   ]
  },
  {
   "cell_type": "code",
   "execution_count": 23,
   "metadata": {},
   "outputs": [],
   "source": [
    "#Construct the dataframe\n",
    "df_train = pd.DataFrame({\n",
    "    \"filenames\": dataset_train[b'filenames'],\n",
    "    \"labels\": dataset_train[b'fine_labels'],\n",
    "    \"row\": range(len(dataset_train[b'filenames']))\n",
    "})\n",
    "\n",
    "labels_wanted = [label_bicycle, label_motorcycle]\n",
    "\n",
    "# Drop all rows from df_train where label is not 8 or 48\n",
    "df_train = df_train[df_train['labels'].isin(labels_wanted)]\n",
    "\n",
    "# Decode df_train.filenames so they are regular strings\n",
    "df_train[\"filenames\"] = df_train[\"filenames\"].apply(\n",
    "    lambda x: x.decode(\"utf-8\")\n",
    ")\n",
    "\n",
    "\n",
    "df_test = pd.DataFrame({\n",
    "    \"filenames\": dataset_test[b'filenames'],\n",
    "    \"labels\": dataset_test[b'fine_labels'],\n",
    "    \"row\": range(len(dataset_test[b'filenames']))\n",
    "})\n",
    "\n",
    "# Drop all rows from df_test where label is not 8 or 48\n",
    "df_test = df_test[df_test['labels'].isin(labels_wanted)]\n",
    "\n",
    "# Decode df_test.filenames so they are regular strings\n",
    "df_test[\"filenames\"] = df_test[\"filenames\"].apply(\n",
    "    lambda x: x.decode(\"utf-8\")\n",
    ")"
   ]
  },
  {
   "cell_type": "code",
   "execution_count": 24,
   "metadata": {},
   "outputs": [
    {
     "name": "stdout",
     "output_type": "stream",
     "text": [
      "df_train.shape: (1000, 3)\n",
      "df_test.shape: (200, 3)\n"
     ]
    }
   ],
   "source": [
    "print( f\"df_train.shape: {df_train.shape}\" )\n",
    "print( f\"df_test.shape: {df_test.shape}\" )"
   ]
  },
  {
   "cell_type": "markdown",
   "metadata": {},
   "source": [
    "Now that the data is filtered for just our classes, we can save all our images."
   ]
  },
  {
   "cell_type": "code",
   "execution_count": 25,
   "metadata": {},
   "outputs": [],
   "source": [
    "!rm -r ./train\n",
    "!rm -r ./test"
   ]
  },
  {
   "cell_type": "code",
   "execution_count": 26,
   "metadata": {},
   "outputs": [],
   "source": [
    "!mkdir ./train\n",
    "!mkdir ./test"
   ]
  },
  {
   "cell_type": "markdown",
   "metadata": {},
   "source": [
    "In the previous sections we introduced you to several key snippets of code:\n",
    "\n",
    "1. Grabbing the image data:\n",
    "\n",
    "```python\n",
    "dataset_train[b'data'][0]\n",
    "```\n",
    "\n",
    "2. A simple idiom for stacking the image data into the right shape\n",
    "\n",
    "```python\n",
    "import numpy as np\n",
    "np.dstack((\n",
    "    row[0:1024].reshape(32,32),\n",
    "    row[1024:2048].reshape(32,32),\n",
    "    row[2048:].reshape(32,32)\n",
    "))\n",
    "```\n",
    "\n",
    "3. A simple `matplotlib` utility for saving images\n",
    "\n",
    "```python\n",
    "plt.imsave(path+row['filenames'], target)\n",
    "```\n",
    "\n",
    "Compose these together into a function that saves all the images into the `./test` and `./train` directories. Use the comments in the body of the `save_images` function below to guide your construction of the function:\n"
   ]
  },
  {
   "cell_type": "code",
   "execution_count": 27,
   "metadata": {},
   "outputs": [],
   "source": [
    "def save_images(dataset, df_filtered, path):\n",
    "    #Grab the image data in row-major form\n",
    "    for i in df_filtered['row']:\n",
    "        \n",
    "        image = dataset[b'data'][i]\n",
    "        filename = dataset[b'filenames'][i].decode(\"utf-8\")\n",
    "        \n",
    "        # Consolidated stacking/reshaping from earlier\n",
    "        image = np.dstack((\n",
    "            image[0:1024].reshape(32,32),\n",
    "            image[1024:2048].reshape(32,32),\n",
    "            image[2048:].reshape(32,32)\n",
    "        ))\n",
    "\n",
    "        # Save the image\n",
    "        plt.imsave(path+filename, image)\n",
    "\n",
    "    # Return any signal data you want for debugging\n",
    "    return\n",
    "\n",
    "save_images(dataset_train, df_train, './train/')\n",
    "save_images(dataset_test, df_test, './test/')"
   ]
  },
  {
   "cell_type": "markdown",
   "metadata": {},
   "source": [
    "### 3. Load the data\n",
    "\n",
    "Now we can load the data into S3.\n",
    "\n",
    "Using the sagemaker SDK grab the current region, execution role, and bucket."
   ]
  },
  {
   "cell_type": "markdown",
   "metadata": {},
   "source": [
    "With this data we can easily sync your data up into S3!"
   ]
  },
  {
   "cell_type": "code",
   "execution_count": 31,
   "metadata": {},
   "outputs": [],
   "source": [
    "%%capture --no-stderr\n",
    "!aws s3 sync ./train s3://${DEFAULT_S3_BUCKET}/train/\n",
    "!aws s3 sync ./test s3://${DEFAULT_S3_BUCKET}/test/"
   ]
  },
  {
   "cell_type": "markdown",
   "metadata": {},
   "source": [
    "And that's it! You can check the bucket and verify that the items were uploaded.\n",
    "\n",
    "## Model Training\n",
    "\n",
    "For Image Classification, Sagemaker [also expects metadata](https://docs.aws.amazon.com/sagemaker/latest/dg/image-classification.html) e.g. in the form of TSV files with labels and filepaths. We can generate these using our Pandas DataFrames from earlier:"
   ]
  },
  {
   "cell_type": "code",
   "execution_count": null,
   "metadata": {},
   "outputs": [],
   "source": [
    "def to_metadata_file(df, prefix):\n",
    "    df[\"s3_path\"] = df[\"filenames\"]\n",
    "    df[\"labels\"] = df[\"labels\"].apply(lambda x: 0 if x==8 else 1)\n",
    "    return df[[\"row\", \"labels\", \"s3_path\"]].to_csv(\n",
    "        f\"{prefix}.lst\", sep=\"\\t\", index=False, header=False\n",
    "    )\n",
    "    \n",
    "to_metadata_file(df_train.copy(), \"train\")\n",
    "to_metadata_file(df_test.copy(), \"test\")"
   ]
  },
  {
   "cell_type": "markdown",
   "metadata": {},
   "source": [
    "We can also upload our manifest files:"
   ]
  },
  {
   "cell_type": "code",
   "execution_count": 33,
   "metadata": {},
   "outputs": [],
   "source": [
    "# Upload files\n",
    "boto3.Session().resource('s3').Bucket(\n",
    "    bucket).Object('train.lst').upload_file('./train.lst')\n",
    "boto3.Session().resource('s3').Bucket(\n",
    "    bucket).Object('test.lst').upload_file('./test.lst')"
   ]
  },
  {
   "cell_type": "markdown",
   "metadata": {},
   "source": [
    "Using the `bucket` and `region` info we can get the latest prebuilt container to run our training job, and define an output location on our s3 bucket for the model. Use the `image_uris` function from the SageMaker SDK to retrieve the latest `image-classification` image below:"
   ]
  },
  {
   "cell_type": "code",
   "execution_count": 9,
   "metadata": {},
   "outputs": [
    {
     "name": "stderr",
     "output_type": "stream",
     "text": [
      "Defaulting to the only supported framework/algorithm version: 1. Ignoring framework/algorithm version: latest.\n"
     ]
    }
   ],
   "source": [
    "# Use the image_uris function to retrieve the latest 'image-classification' image \n",
    "algo_image = sagemaker.image_uris.retrieve(\"image-classification\", region, version='latest')\n",
    "s3_output_location = f\"s3://{bucket}/models/image_model\""
   ]
  },
  {
   "cell_type": "markdown",
   "metadata": {},
   "source": [
    "We're ready to create an estimator! Create an estimator `img_classifier_model` that uses one instance of `ml.p2.xlarge`. Ensure that y ou use the output location we defined above - we'll be referring to that later!"
   ]
  },
  {
   "cell_type": "code",
   "execution_count": 10,
   "metadata": {},
   "outputs": [],
   "source": [
    "img_classifier_model=sagemaker.estimator.Estimator(\n",
    "    image_uri=algo_image,\n",
    "    role=role,\n",
    "    instance_count=1,\n",
    "    instance_type='ml.p2.xlarge',\n",
    "    volume_size=5,\n",
    "    output_path=s3_output_location,\n",
    "    sagemaker_session=sagemaker.Session()\n",
    ")"
   ]
  },
  {
   "cell_type": "markdown",
   "metadata": {},
   "source": [
    "We can also set a few key hyperparameters and define the inputs for our model:"
   ]
  },
  {
   "cell_type": "code",
   "execution_count": 11,
   "metadata": {},
   "outputs": [],
   "source": [
    "img_classifier_model.set_hyperparameters(\n",
    "    image_shape='3,32,32',\n",
    "    num_classes=2,\n",
    "    num_training_samples=1000\n",
    ")"
   ]
  },
  {
   "cell_type": "markdown",
   "metadata": {},
   "source": [
    "The `image-classification` image uses four input channels with very specific input parameters. For convenience, we've provided them below:"
   ]
  },
  {
   "cell_type": "code",
   "execution_count": 12,
   "metadata": {},
   "outputs": [],
   "source": [
    "model_inputs = {\n",
    "        \"train\": sagemaker.inputs.TrainingInput(\n",
    "            s3_data=f\"s3://{bucket}/train/\",\n",
    "            content_type=\"application/x-image\"\n",
    "        ),\n",
    "        \"validation\": sagemaker.inputs.TrainingInput(\n",
    "            s3_data=f\"s3://{bucket}/test/\",\n",
    "            content_type=\"application/x-image\"\n",
    "        ),\n",
    "        \"train_lst\": sagemaker.inputs.TrainingInput(\n",
    "            s3_data=f\"s3://{bucket}/train.lst\",\n",
    "            content_type=\"application/x-image\"\n",
    "        ),\n",
    "        \"validation_lst\": sagemaker.inputs.TrainingInput(\n",
    "            s3_data=f\"s3://{bucket}/test.lst\",\n",
    "            content_type=\"application/x-image\"\n",
    "        )\n",
    "}"
   ]
  },
  {
   "cell_type": "markdown",
   "metadata": {},
   "source": [
    "Great, now we can train the model using the model_inputs. In the cell below, call the `fit` method on our model,:"
   ]
  },
  {
   "cell_type": "code",
   "execution_count": 13,
   "metadata": {},
   "outputs": [
    {
     "name": "stdout",
     "output_type": "stream",
     "text": [
      "2021-12-23 02:05:24 Starting - Starting the training job...\n",
      "2021-12-23 02:05:48 Starting - Launching requested ML instancesProfilerReport-1640225124: InProgress\n",
      "......\n",
      "2021-12-23 02:06:48 Starting - Preparing the instances for training............\n",
      "2021-12-23 02:08:49 Downloading - Downloading input data...\n",
      "2021-12-23 02:09:09 Training - Downloading the training image.....\u001b[34mDocker entrypoint called with argument(s): train\u001b[0m\n",
      "\u001b[34m[12/23/2021 02:10:08 INFO 140415400441664] Reading default configuration from /opt/amazon/lib/python3.7/site-packages/image_classification/default-input.json: {'use_pretrained_model': 0, 'num_layers': 152, 'epochs': 30, 'learning_rate': 0.1, 'lr_scheduler_factor': 0.1, 'optimizer': 'sgd', 'momentum': 0, 'weight_decay': 0.0001, 'beta_1': 0.9, 'beta_2': 0.999, 'eps': 1e-08, 'gamma': 0.9, 'mini_batch_size': 32, 'image_shape': '3,224,224', 'precision_dtype': 'float32'}\u001b[0m\n",
      "\u001b[34m[12/23/2021 02:10:08 INFO 140415400441664] Merging with provided configuration from /opt/ml/input/config/hyperparameters.json: {'num_classes': '2', 'num_training_samples': '1000', 'image_shape': '3,32,32'}\u001b[0m\n",
      "\u001b[34m[12/23/2021 02:10:08 INFO 140415400441664] Final configuration: {'use_pretrained_model': 0, 'num_layers': 152, 'epochs': 30, 'learning_rate': 0.1, 'lr_scheduler_factor': 0.1, 'optimizer': 'sgd', 'momentum': 0, 'weight_decay': 0.0001, 'beta_1': 0.9, 'beta_2': 0.999, 'eps': 1e-08, 'gamma': 0.9, 'mini_batch_size': 32, 'image_shape': '3,32,32', 'precision_dtype': 'float32', 'num_classes': '2', 'num_training_samples': '1000'}\u001b[0m\n",
      "\u001b[34m[12/23/2021 02:10:08 INFO 140415400441664] Searching for .lst files in /opt/ml/input/data/train_lst.\u001b[0m\n",
      "\u001b[34m[12/23/2021 02:10:08 INFO 140415400441664] Creating record files for train.lst\u001b[0m\n",
      "\u001b[34m[12/23/2021 02:10:08 INFO 140415400441664] Done creating record files...\u001b[0m\n",
      "\u001b[34m[12/23/2021 02:10:08 INFO 140415400441664] Searching for .lst files in /opt/ml/input/data/validation_lst.\u001b[0m\n",
      "\u001b[34m[12/23/2021 02:10:08 INFO 140415400441664] Creating record files for test.lst\u001b[0m\n",
      "\u001b[34m[12/23/2021 02:10:08 INFO 140415400441664] Done creating record files...\u001b[0m\n",
      "\u001b[34m[12/23/2021 02:10:08 INFO 140415400441664] use_pretrained_model: 0\u001b[0m\n",
      "\u001b[34m[12/23/2021 02:10:08 INFO 140415400441664] multi_label: 0\u001b[0m\n",
      "\u001b[34m[12/23/2021 02:10:08 INFO 140415400441664] Performing random weight initialization\u001b[0m\n",
      "\u001b[34m[12/23/2021 02:10:08 INFO 140415400441664] ---- Parameters ----\u001b[0m\n",
      "\u001b[34m[12/23/2021 02:10:08 INFO 140415400441664] num_layers: 152\u001b[0m\n",
      "\u001b[34m[12/23/2021 02:10:08 INFO 140415400441664] data type: <class 'numpy.float32'>\u001b[0m\n",
      "\u001b[34m[12/23/2021 02:10:08 INFO 140415400441664] epochs: 30\u001b[0m\n",
      "\u001b[34m[12/23/2021 02:10:08 INFO 140415400441664] optimizer: sgd\u001b[0m\n",
      "\u001b[34m[12/23/2021 02:10:08 INFO 140415400441664] momentum: 0.9\u001b[0m\n",
      "\u001b[34m[12/23/2021 02:10:08 INFO 140415400441664] weight_decay: 0.0001\u001b[0m\n",
      "\u001b[34m[12/23/2021 02:10:08 INFO 140415400441664] learning_rate: 0.1\u001b[0m\n",
      "\u001b[34m[12/23/2021 02:10:08 INFO 140415400441664] num_training_samples: 1000\u001b[0m\n",
      "\u001b[34m[12/23/2021 02:10:08 INFO 140415400441664] mini_batch_size: 32\u001b[0m\n",
      "\u001b[34m[12/23/2021 02:10:08 INFO 140415400441664] image_shape: 3,32,32\u001b[0m\n",
      "\u001b[34m[12/23/2021 02:10:08 INFO 140415400441664] num_classes: 2\u001b[0m\n",
      "\u001b[34m[12/23/2021 02:10:08 INFO 140415400441664] augmentation_type: None\u001b[0m\n",
      "\u001b[34m[12/23/2021 02:10:08 INFO 140415400441664] kv_store: device\u001b[0m\n",
      "\u001b[34m[12/23/2021 02:10:08 INFO 140415400441664] checkpoint_frequency not set, will store the best model\u001b[0m\n",
      "\u001b[34m[12/23/2021 02:10:08 INFO 140415400441664] --------------------\u001b[0m\n",
      "\u001b[34m[12/23/2021 02:10:08 INFO 140415400441664] Setting number of threads: 3\u001b[0m\n",
      "\n",
      "2021-12-23 02:10:09 Training - Training image download completed. Training in progress.\u001b[34m[02:10:18] /opt/brazil-pkg-cache/packages/AIAlgorithmsMXNet/AIAlgorithmsMXNet-1.3.x_ecl_Cuda_10.1.x.10042.0/AL2_x86_64/generic-flavor/src/src/operator/nn/./cudnn/./cudnn_algoreg-inl.h:97: Running performance tests to find the best convolution algorithm, this can take a while... (setting env variable MXNET_CUDNN_AUTOTUNE_DEFAULT to 0 to disable)\u001b[0m\n",
      "\u001b[34m[12/23/2021 02:10:37 INFO 140415400441664] Epoch[0] Batch [20]#011Speed: 34.219 samples/sec#011accuracy=0.541667\u001b[0m\n",
      "\u001b[34m[12/23/2021 02:10:42 INFO 140415400441664] Epoch[0] Train-accuracy=0.584677\u001b[0m\n",
      "\u001b[34m[12/23/2021 02:10:42 INFO 140415400441664] Epoch[0] Time cost=24.410\u001b[0m\n",
      "\u001b[34m[12/23/2021 02:10:44 INFO 140415400441664] Epoch[0] Validation-accuracy=0.505208\u001b[0m\n",
      "\u001b[34m[12/23/2021 02:10:44 INFO 140415400441664] Storing the best model with validation accuracy: 0.505208\u001b[0m\n",
      "\u001b[34m[12/23/2021 02:10:45 INFO 140415400441664] Saved checkpoint to \"/opt/ml/model/image-classification-0001.params\"\u001b[0m\n",
      "\u001b[34m[12/23/2021 02:10:56 INFO 140415400441664] Epoch[1] Batch [20]#011Speed: 55.104 samples/sec#011accuracy=0.608631\u001b[0m\n",
      "\u001b[34m[12/23/2021 02:11:02 INFO 140415400441664] Epoch[1] Train-accuracy=0.599798\u001b[0m\n",
      "\u001b[34m[12/23/2021 02:11:02 INFO 140415400441664] Epoch[1] Time cost=17.341\u001b[0m\n",
      "\u001b[34m[12/23/2021 02:11:04 INFO 140415400441664] Epoch[1] Validation-accuracy=0.500000\u001b[0m\n",
      "\u001b[34m[12/23/2021 02:11:16 INFO 140415400441664] Epoch[2] Batch [20]#011Speed: 54.568 samples/sec#011accuracy=0.642857\u001b[0m\n",
      "\u001b[34m[12/23/2021 02:11:22 INFO 140415400441664] Epoch[2] Train-accuracy=0.649194\u001b[0m\n",
      "\u001b[34m[12/23/2021 02:11:22 INFO 140415400441664] Epoch[2] Time cost=17.569\u001b[0m\n",
      "\u001b[34m[12/23/2021 02:11:23 INFO 140415400441664] Epoch[2] Validation-accuracy=0.708333\u001b[0m\n",
      "\u001b[34m[12/23/2021 02:11:24 INFO 140415400441664] Storing the best model with validation accuracy: 0.708333\u001b[0m\n",
      "\u001b[34m[12/23/2021 02:11:24 INFO 140415400441664] Saved checkpoint to \"/opt/ml/model/image-classification-0003.params\"\u001b[0m\n",
      "\u001b[34m[12/23/2021 02:11:36 INFO 140415400441664] Epoch[3] Batch [20]#011Speed: 54.919 samples/sec#011accuracy=0.659226\u001b[0m\n",
      "\u001b[34m[12/23/2021 02:11:42 INFO 140415400441664] Epoch[3] Train-accuracy=0.700605\u001b[0m\n",
      "\u001b[34m[12/23/2021 02:11:42 INFO 140415400441664] Epoch[3] Time cost=17.374\u001b[0m\n",
      "\u001b[34m[12/23/2021 02:11:43 INFO 140415400441664] Epoch[3] Validation-accuracy=0.790179\u001b[0m\n",
      "\u001b[34m[12/23/2021 02:11:43 INFO 140415400441664] Storing the best model with validation accuracy: 0.790179\u001b[0m\n",
      "\u001b[34m[12/23/2021 02:11:44 INFO 140415400441664] Saved checkpoint to \"/opt/ml/model/image-classification-0004.params\"\u001b[0m\n",
      "\u001b[34m[12/23/2021 02:11:56 INFO 140415400441664] Epoch[4] Batch [20]#011Speed: 54.866 samples/sec#011accuracy=0.770833\u001b[0m\n",
      "\u001b[34m[12/23/2021 02:12:01 INFO 140415400441664] Epoch[4] Train-accuracy=0.763105\u001b[0m\n",
      "\u001b[34m[12/23/2021 02:12:01 INFO 140415400441664] Epoch[4] Time cost=17.427\u001b[0m\n",
      "\u001b[34m[12/23/2021 02:12:03 INFO 140415400441664] Epoch[4] Validation-accuracy=0.786458\u001b[0m\n",
      "\u001b[34m[12/23/2021 02:12:15 INFO 140415400441664] Epoch[5] Batch [20]#011Speed: 54.075 samples/sec#011accuracy=0.790179\u001b[0m\n",
      "\u001b[34m[12/23/2021 02:12:21 INFO 140415400441664] Epoch[5] Train-accuracy=0.778226\u001b[0m\n",
      "\u001b[34m[12/23/2021 02:12:21 INFO 140415400441664] Epoch[5] Time cost=17.568\u001b[0m\n",
      "\u001b[34m[12/23/2021 02:12:22 INFO 140415400441664] Epoch[5] Validation-accuracy=0.755208\u001b[0m\n",
      "\u001b[34m[12/23/2021 02:12:35 INFO 140415400441664] Epoch[6] Batch [20]#011Speed: 54.883 samples/sec#011accuracy=0.812500\u001b[0m\n",
      "\u001b[34m[12/23/2021 02:12:40 INFO 140415400441664] Epoch[6] Train-accuracy=0.803427\u001b[0m\n",
      "\u001b[34m[12/23/2021 02:12:40 INFO 140415400441664] Epoch[6] Time cost=17.420\u001b[0m\n",
      "\u001b[34m[12/23/2021 02:12:42 INFO 140415400441664] Epoch[6] Validation-accuracy=0.791667\u001b[0m\n",
      "\u001b[34m[12/23/2021 02:12:42 INFO 140415400441664] Storing the best model with validation accuracy: 0.791667\u001b[0m\n",
      "\u001b[34m[12/23/2021 02:12:43 INFO 140415400441664] Saved checkpoint to \"/opt/ml/model/image-classification-0007.params\"\u001b[0m\n",
      "\u001b[34m[12/23/2021 02:12:54 INFO 140415400441664] Epoch[7] Batch [20]#011Speed: 55.070 samples/sec#011accuracy=0.805060\u001b[0m\n",
      "\u001b[34m[12/23/2021 02:13:00 INFO 140415400441664] Epoch[7] Train-accuracy=0.805444\u001b[0m\n",
      "\u001b[34m[12/23/2021 02:13:00 INFO 140415400441664] Epoch[7] Time cost=17.363\u001b[0m\n",
      "\u001b[34m[12/23/2021 02:13:02 INFO 140415400441664] Epoch[7] Validation-accuracy=0.763393\u001b[0m\n",
      "\u001b[34m[12/23/2021 02:13:14 INFO 140415400441664] Epoch[8] Batch [20]#011Speed: 54.279 samples/sec#011accuracy=0.816964\u001b[0m\n",
      "\u001b[34m[12/23/2021 02:13:20 INFO 140415400441664] Epoch[8] Train-accuracy=0.812500\u001b[0m\n",
      "\u001b[34m[12/23/2021 02:13:20 INFO 140415400441664] Epoch[8] Time cost=17.518\u001b[0m\n",
      "\u001b[34m[12/23/2021 02:13:21 INFO 140415400441664] Epoch[8] Validation-accuracy=0.822917\u001b[0m\n",
      "\u001b[34m[12/23/2021 02:13:22 INFO 140415400441664] Storing the best model with validation accuracy: 0.822917\u001b[0m\n",
      "\u001b[34m[12/23/2021 02:13:22 INFO 140415400441664] Saved checkpoint to \"/opt/ml/model/image-classification-0009.params\"\u001b[0m\n",
      "\u001b[34m[12/23/2021 02:13:34 INFO 140415400441664] Epoch[9] Batch [20]#011Speed: 54.831 samples/sec#011accuracy=0.813988\u001b[0m\n",
      "\u001b[34m[12/23/2021 02:13:39 INFO 140415400441664] Epoch[9] Train-accuracy=0.820565\u001b[0m\n",
      "\u001b[34m[12/23/2021 02:13:39 INFO 140415400441664] Epoch[9] Time cost=17.441\u001b[0m\n",
      "\u001b[34m[12/23/2021 02:13:41 INFO 140415400441664] Epoch[9] Validation-accuracy=0.822917\u001b[0m\n",
      "\u001b[34m[12/23/2021 02:13:53 INFO 140415400441664] Epoch[10] Batch [20]#011Speed: 54.515 samples/sec#011accuracy=0.824405\u001b[0m\n",
      "\u001b[34m[12/23/2021 02:13:59 INFO 140415400441664] Epoch[10] Train-accuracy=0.828629\u001b[0m\n",
      "\u001b[34m[12/23/2021 02:13:59 INFO 140415400441664] Epoch[10] Time cost=17.508\u001b[0m\n",
      "\u001b[34m[12/23/2021 02:14:00 INFO 140415400441664] Epoch[10] Validation-accuracy=0.802083\u001b[0m\n",
      "\u001b[34m[12/23/2021 02:14:13 INFO 140415400441664] Epoch[11] Batch [20]#011Speed: 54.633 samples/sec#011accuracy=0.836310\u001b[0m\n",
      "\u001b[34m[12/23/2021 02:14:18 INFO 140415400441664] Epoch[11] Train-accuracy=0.822581\u001b[0m\n",
      "\u001b[34m[12/23/2021 02:14:18 INFO 140415400441664] Epoch[11] Time cost=17.447\u001b[0m\n",
      "\u001b[34m[12/23/2021 02:14:20 INFO 140415400441664] Epoch[11] Validation-accuracy=0.808036\u001b[0m\n",
      "\u001b[34m[12/23/2021 02:14:32 INFO 140415400441664] Epoch[12] Batch [20]#011Speed: 54.874 samples/sec#011accuracy=0.858631\u001b[0m\n",
      "\u001b[34m[12/23/2021 02:14:38 INFO 140415400441664] Epoch[12] Train-accuracy=0.853831\u001b[0m\n",
      "\u001b[34m[12/23/2021 02:14:38 INFO 140415400441664] Epoch[12] Time cost=17.394\u001b[0m\n",
      "\u001b[34m[12/23/2021 02:14:39 INFO 140415400441664] Epoch[12] Validation-accuracy=0.828125\u001b[0m\n",
      "\u001b[34m[12/23/2021 02:14:40 INFO 140415400441664] Storing the best model with validation accuracy: 0.828125\u001b[0m\n",
      "\u001b[34m[12/23/2021 02:14:40 INFO 140415400441664] Saved checkpoint to \"/opt/ml/model/image-classification-0013.params\"\u001b[0m\n",
      "\u001b[34m[12/23/2021 02:14:52 INFO 140415400441664] Epoch[13] Batch [20]#011Speed: 55.017 samples/sec#011accuracy=0.833333\u001b[0m\n",
      "\u001b[34m[12/23/2021 02:14:58 INFO 140415400441664] Epoch[13] Train-accuracy=0.842742\u001b[0m\n",
      "\u001b[34m[12/23/2021 02:14:58 INFO 140415400441664] Epoch[13] Time cost=17.366\u001b[0m\n",
      "\u001b[34m[12/23/2021 02:14:59 INFO 140415400441664] Epoch[13] Validation-accuracy=0.822917\u001b[0m\n",
      "\u001b[34m[12/23/2021 02:15:11 INFO 140415400441664] Epoch[14] Batch [20]#011Speed: 54.285 samples/sec#011accuracy=0.875000\u001b[0m\n",
      "\u001b[34m[12/23/2021 02:15:17 INFO 140415400441664] Epoch[14] Train-accuracy=0.866935\u001b[0m\n",
      "\u001b[34m[12/23/2021 02:15:17 INFO 140415400441664] Epoch[14] Time cost=17.592\u001b[0m\n",
      "\u001b[34m[12/23/2021 02:15:19 INFO 140415400441664] Epoch[14] Validation-accuracy=0.838542\u001b[0m\n",
      "\u001b[34m[12/23/2021 02:15:19 INFO 140415400441664] Storing the best model with validation accuracy: 0.838542\u001b[0m\n",
      "\u001b[34m[12/23/2021 02:15:19 INFO 140415400441664] Saved checkpoint to \"/opt/ml/model/image-classification-0015.params\"\u001b[0m\n",
      "\u001b[34m[12/23/2021 02:15:31 INFO 140415400441664] Epoch[15] Batch [20]#011Speed: 54.934 samples/sec#011accuracy=0.879464\u001b[0m\n",
      "\u001b[34m[12/23/2021 02:15:37 INFO 140415400441664] Epoch[15] Train-accuracy=0.873992\u001b[0m\n",
      "\u001b[34m[12/23/2021 02:15:37 INFO 140415400441664] Epoch[15] Time cost=17.393\u001b[0m\n",
      "\u001b[34m[12/23/2021 02:15:38 INFO 140415400441664] Epoch[15] Validation-accuracy=0.825893\u001b[0m\n",
      "\u001b[34m[12/23/2021 02:15:51 INFO 140415400441664] Epoch[16] Batch [20]#011Speed: 54.404 samples/sec#011accuracy=0.903274\u001b[0m\n",
      "\u001b[34m[12/23/2021 02:15:56 INFO 140415400441664] Epoch[16] Train-accuracy=0.873992\u001b[0m\n",
      "\u001b[34m[12/23/2021 02:15:56 INFO 140415400441664] Epoch[16] Time cost=17.511\u001b[0m\n",
      "\u001b[34m[12/23/2021 02:15:58 INFO 140415400441664] Epoch[16] Validation-accuracy=0.843750\u001b[0m\n",
      "\u001b[34m[12/23/2021 02:15:58 INFO 140415400441664] Storing the best model with validation accuracy: 0.843750\u001b[0m\n",
      "\u001b[34m[12/23/2021 02:15:59 INFO 140415400441664] Saved checkpoint to \"/opt/ml/model/image-classification-0017.params\"\u001b[0m\n",
      "\u001b[34m[12/23/2021 02:16:12 INFO 140415400441664] Epoch[17] Batch [20]#011Speed: 48.783 samples/sec#011accuracy=0.885417\u001b[0m\n",
      "\u001b[34m[12/23/2021 02:16:18 INFO 140415400441664] Epoch[17] Train-accuracy=0.885081\u001b[0m\n",
      "\u001b[34m[12/23/2021 02:16:18 INFO 140415400441664] Epoch[17] Time cost=18.873\u001b[0m\n",
      "\u001b[34m[12/23/2021 02:16:19 INFO 140415400441664] Epoch[17] Validation-accuracy=0.854167\u001b[0m\n",
      "\u001b[34m[12/23/2021 02:16:19 INFO 140415400441664] Storing the best model with validation accuracy: 0.854167\u001b[0m\n",
      "\u001b[34m[12/23/2021 02:16:20 INFO 140415400441664] Saved checkpoint to \"/opt/ml/model/image-classification-0018.params\"\u001b[0m\n",
      "\u001b[34m[12/23/2021 02:16:31 INFO 140415400441664] Epoch[18] Batch [20]#011Speed: 54.852 samples/sec#011accuracy=0.867560\u001b[0m\n",
      "\u001b[34m[12/23/2021 02:16:37 INFO 140415400441664] Epoch[18] Train-accuracy=0.875000\u001b[0m\n",
      "\u001b[34m[12/23/2021 02:16:37 INFO 140415400441664] Epoch[18] Time cost=17.415\u001b[0m\n",
      "\u001b[34m[12/23/2021 02:16:39 INFO 140415400441664] Epoch[18] Validation-accuracy=0.822917\u001b[0m\n",
      "\u001b[34m[12/23/2021 02:16:51 INFO 140415400441664] Epoch[19] Batch [20]#011Speed: 54.807 samples/sec#011accuracy=0.919643\u001b[0m\n",
      "\u001b[34m[12/23/2021 02:16:57 INFO 140415400441664] Epoch[19] Train-accuracy=0.915323\u001b[0m\n",
      "\u001b[34m[12/23/2021 02:16:57 INFO 140415400441664] Epoch[19] Time cost=17.557\u001b[0m\n",
      "\u001b[34m[12/23/2021 02:16:58 INFO 140415400441664] Epoch[19] Validation-accuracy=0.812500\u001b[0m\n",
      "\u001b[34m[12/23/2021 02:17:11 INFO 140415400441664] Epoch[20] Batch [20]#011Speed: 54.177 samples/sec#011accuracy=0.904762\u001b[0m\n",
      "\u001b[34m[12/23/2021 02:17:16 INFO 140415400441664] Epoch[20] Train-accuracy=0.895161\u001b[0m\n",
      "\u001b[34m[12/23/2021 02:17:16 INFO 140415400441664] Epoch[20] Time cost=17.589\u001b[0m\n",
      "\u001b[34m[12/23/2021 02:17:18 INFO 140415400441664] Epoch[20] Validation-accuracy=0.807292\u001b[0m\n",
      "\u001b[34m[12/23/2021 02:17:30 INFO 140415400441664] Epoch[21] Batch [20]#011Speed: 54.713 samples/sec#011accuracy=0.928571\u001b[0m\n",
      "\u001b[34m[12/23/2021 02:17:36 INFO 140415400441664] Epoch[21] Train-accuracy=0.929435\u001b[0m\n",
      "\u001b[34m[12/23/2021 02:17:36 INFO 140415400441664] Epoch[21] Time cost=17.447\u001b[0m\n",
      "\u001b[34m[12/23/2021 02:17:37 INFO 140415400441664] Epoch[21] Validation-accuracy=0.838542\u001b[0m\n",
      "\u001b[34m[12/23/2021 02:17:50 INFO 140415400441664] Epoch[22] Batch [20]#011Speed: 54.641 samples/sec#011accuracy=0.933036\u001b[0m\n",
      "\u001b[34m[12/23/2021 02:17:55 INFO 140415400441664] Epoch[22] Train-accuracy=0.931452\u001b[0m\n",
      "\u001b[34m[12/23/2021 02:17:55 INFO 140415400441664] Epoch[22] Time cost=17.472\u001b[0m\n",
      "\u001b[34m[12/23/2021 02:17:57 INFO 140415400441664] Epoch[22] Validation-accuracy=0.848958\u001b[0m\n",
      "\u001b[34m[12/23/2021 02:18:09 INFO 140415400441664] Epoch[23] Batch [20]#011Speed: 54.428 samples/sec#011accuracy=0.967262\u001b[0m\n",
      "\u001b[34m[12/23/2021 02:18:15 INFO 140415400441664] Epoch[23] Train-accuracy=0.952621\u001b[0m\n",
      "\u001b[34m[12/23/2021 02:18:15 INFO 140415400441664] Epoch[23] Time cost=17.523\u001b[0m\n",
      "\u001b[34m[12/23/2021 02:18:17 INFO 140415400441664] Epoch[23] Validation-accuracy=0.803571\u001b[0m\n",
      "\u001b[34m[12/23/2021 02:18:29 INFO 140415400441664] Epoch[24] Batch [20]#011Speed: 54.544 samples/sec#011accuracy=0.934524\u001b[0m\n",
      "\u001b[34m[12/23/2021 02:18:35 INFO 140415400441664] Epoch[24] Train-accuracy=0.940524\u001b[0m\n",
      "\u001b[34m[12/23/2021 02:18:35 INFO 140415400441664] Epoch[24] Time cost=17.489\u001b[0m\n",
      "\u001b[34m[12/23/2021 02:18:36 INFO 140415400441664] Epoch[24] Validation-accuracy=0.796875\u001b[0m\n",
      "\u001b[34m[12/23/2021 02:18:48 INFO 140415400441664] Epoch[25] Batch [20]#011Speed: 54.733 samples/sec#011accuracy=0.950893\u001b[0m\n",
      "\u001b[34m[12/23/2021 02:18:54 INFO 140415400441664] Epoch[25] Train-accuracy=0.953629\u001b[0m\n",
      "\u001b[34m[12/23/2021 02:18:54 INFO 140415400441664] Epoch[25] Time cost=17.436\u001b[0m\n",
      "\u001b[34m[12/23/2021 02:18:56 INFO 140415400441664] Epoch[25] Validation-accuracy=0.812500\u001b[0m\n",
      "\u001b[34m[12/23/2021 02:19:08 INFO 140415400441664] Epoch[26] Batch [20]#011Speed: 54.393 samples/sec#011accuracy=0.949405\u001b[0m\n",
      "\u001b[34m[12/23/2021 02:19:14 INFO 140415400441664] Epoch[26] Train-accuracy=0.935484\u001b[0m\n",
      "\u001b[34m[12/23/2021 02:19:14 INFO 140415400441664] Epoch[26] Time cost=17.504\u001b[0m\n",
      "\u001b[34m[12/23/2021 02:19:15 INFO 140415400441664] Epoch[26] Validation-accuracy=0.822917\u001b[0m\n",
      "\u001b[34m[12/23/2021 02:19:27 INFO 140415400441664] Epoch[27] Batch [20]#011Speed: 54.957 samples/sec#011accuracy=0.937500\u001b[0m\n",
      "\u001b[34m[12/23/2021 02:19:33 INFO 140415400441664] Epoch[27] Train-accuracy=0.936492\u001b[0m\n",
      "\u001b[34m[12/23/2021 02:19:33 INFO 140415400441664] Epoch[27] Time cost=17.386\u001b[0m\n",
      "\u001b[34m[12/23/2021 02:19:35 INFO 140415400441664] Epoch[27] Validation-accuracy=0.825893\u001b[0m\n",
      "\u001b[34m[12/23/2021 02:19:47 INFO 140415400441664] Epoch[28] Batch [20]#011Speed: 54.699 samples/sec#011accuracy=0.970238\u001b[0m\n",
      "\u001b[34m[12/23/2021 02:19:53 INFO 140415400441664] Epoch[28] Train-accuracy=0.968750\u001b[0m\n",
      "\u001b[34m[12/23/2021 02:19:53 INFO 140415400441664] Epoch[28] Time cost=17.441\u001b[0m\n",
      "\u001b[34m[12/23/2021 02:19:54 INFO 140415400441664] Epoch[28] Validation-accuracy=0.807292\u001b[0m\n",
      "\n",
      "2021-12-23 02:20:16 Uploading - Uploading generated training model\u001b[34m[12/23/2021 02:20:06 INFO 140415400441664] Epoch[29] Batch [20]#011Speed: 54.623 samples/sec#011accuracy=0.970238\u001b[0m\n",
      "\u001b[34m[12/23/2021 02:20:12 INFO 140415400441664] Epoch[29] Train-accuracy=0.972782\u001b[0m\n",
      "\u001b[34m[12/23/2021 02:20:12 INFO 140415400441664] Epoch[29] Time cost=17.532\u001b[0m\n",
      "\u001b[34m[12/23/2021 02:20:14 INFO 140415400441664] Epoch[29] Validation-accuracy=0.796875\u001b[0m\n",
      "\n",
      "2021-12-23 02:21:13 Completed - Training job completed\n",
      "ProfilerReport-1640225124: IssuesFound\n",
      "Training seconds: 743\n",
      "Billable seconds: 743\n"
     ]
    }
   ],
   "source": [
    "img_classifier_model.fit(model_inputs)"
   ]
  },
  {
   "cell_type": "markdown",
   "metadata": {},
   "source": [
    "If all goes well, you'll end up with a model topping out above `.8` validation accuracy. With only 1000 training samples in the CIFAR dataset, that's pretty good. We could definitely pursue data augmentation & gathering more samples to help us improve further, but for now let's proceed to deploy our model.\n",
    "\n",
    "### Getting ready to deploy\n",
    "\n",
    "To begin with, let's configure Model Monitor to track our deployment. We'll define a `DataCaptureConfig` below:"
   ]
  },
  {
   "cell_type": "code",
   "execution_count": 14,
   "metadata": {},
   "outputs": [],
   "source": [
    "capture_uri = f's3://{bucket}/data-capture'\n",
    "\n",
    "data_capture_config = DataCaptureConfig(\n",
    "    enable_capture=True,\n",
    "    sampling_percentage=100,\n",
    "    destination_s3_uri=capture_uri\n",
    ")"
   ]
  },
  {
   "cell_type": "markdown",
   "metadata": {},
   "source": [
    "Note the `destination_s3_uri` parameter: At the end of the project, we can explore the `data_capture` directory in S3 to find crucial data about the inputs and outputs Model Monitor has observed on our model endpoint over time.\n",
    "\n",
    "With that done, deploy your model on a single `ml.m5.xlarge` instance with the data capture config attached:"
   ]
  },
  {
   "cell_type": "code",
   "execution_count": 15,
   "metadata": {},
   "outputs": [
    {
     "name": "stdout",
     "output_type": "stream",
     "text": [
      "---------------!sconesClassifierModelEndpoint\n"
     ]
    }
   ],
   "source": [
    "# Also assigned in lambda function:\n",
    "SCONES_ENDPOINT_NAME = \"sconesClassifierModelEndpoint\"\n",
    "# Maybe store as env variable and retrieve in lambda function with:\n",
    "# SCONES_ENDPOINT_NAME = os.environ['SCONES_ENDPOINT_NAME']\n",
    "\n",
    "deployment = img_classifier_model.deploy(\n",
    "    endpoint_name=SCONES_ENDPOINT_NAME,\n",
    "    initial_instance_count=1,\n",
    "    instance_type='ml.m5.xlarge',\n",
    "    data_capture_config=data_capture_config\n",
    "    )\n",
    "\n",
    "endpoint = deployment.endpoint_name\n",
    "print(endpoint)"
   ]
  },
  {
   "cell_type": "code",
   "execution_count": 41,
   "metadata": {},
   "outputs": [
    {
     "data": {
      "text/plain": [
       "{'ResponseMetadata': {'RequestId': '8ebcc90d-de86-4517-9dc7-44cdec8bf52b',\n",
       "  'HTTPStatusCode': 200,\n",
       "  'HTTPHeaders': {'x-amzn-requestid': '8ebcc90d-de86-4517-9dc7-44cdec8bf52b',\n",
       "   'x-amzn-invoked-production-variant': 'AllTraffic',\n",
       "   'date': 'Wed, 22 Dec 2021 20:28:42 GMT',\n",
       "   'content-type': 'application/json',\n",
       "   'content-length': '42'},\n",
       "  'RetryAttempts': 0},\n",
       " 'ContentType': 'application/json',\n",
       " 'InvokedProductionVariant': 'AllTraffic',\n",
       " 'Body': <botocore.response.StreamingBody at 0x7f574563ba10>}"
      ]
     },
     "execution_count": 41,
     "metadata": {},
     "output_type": "execute_result"
    }
   ],
   "source": [
    "runtime= boto3.client('runtime.sagemaker')\n",
    "\n",
    "with open(\"./test/bicycle_s_001789.png\", \"rb\") as f:\n",
    "    test_image = f.read()\n",
    "\n",
    "response = runtime.invoke_endpoint(\n",
    "        EndpointName=SCONES_ENDPOINT_NAME,\n",
    "        ContentType='image/png',\n",
    "        Body=test_image)\n",
    "\n",
    "response"
   ]
  },
  {
   "cell_type": "code",
   "execution_count": 42,
   "metadata": {},
   "outputs": [
    {
     "data": {
      "text/plain": [
       "[0.99986732006073, 0.00013267302711028606]"
      ]
     },
     "execution_count": 42,
     "metadata": {},
     "output_type": "execute_result"
    }
   ],
   "source": [
    "result = json.loads(response['Body'].read().decode('utf-8'))\n",
    "\n",
    "result"
   ]
  },
  {
   "cell_type": "markdown",
   "metadata": {},
   "source": [
    "Note the endpoint name for later as well.\n",
    "\n",
    "Next, instantiate a Predictor:"
   ]
  },
  {
   "cell_type": "code",
   "execution_count": 43,
   "metadata": {},
   "outputs": [],
   "source": [
    "predictor = Predictor(deployment.endpoint_name)"
   ]
  },
  {
   "cell_type": "markdown",
   "metadata": {},
   "source": [
    "In the code snippet below we are going to prepare one of your saved images for prediction. Use the predictor to process the `payload`."
   ]
  },
  {
   "cell_type": "code",
   "execution_count": 44,
   "metadata": {},
   "outputs": [],
   "source": [
    "predictor.serializer = IdentitySerializer(\"image/png\")\n",
    "with open(\"./test/bicycle_s_001789.png\", \"rb\") as f:\n",
    "    payload = f.read()\n",
    "\n",
    "inference = predictor.predict(payload)"
   ]
  },
  {
   "cell_type": "markdown",
   "metadata": {},
   "source": [
    "Your `inference` object is an array of two values, the predicted probability value for each of your classes (bicycle and motorcycle respectively.) So, for example, a value of `b'[0.91, 0.09]'` indicates the probability of being a bike is 91% and being a motorcycle is 9%."
   ]
  },
  {
   "cell_type": "code",
   "execution_count": 45,
   "metadata": {},
   "outputs": [
    {
     "name": "stdout",
     "output_type": "stream",
     "text": [
      "b'[0.99986732006073, 0.00013267302711028606]'\n"
     ]
    }
   ],
   "source": [
    "print(inference)"
   ]
  },
  {
   "cell_type": "markdown",
   "metadata": {},
   "source": [
    "### Draft Lambdas and Step Function Workflow\n",
    "\n",
    "Your operations team uses Step Functions to orchestrate serverless workflows. One of the nice things about Step Functions is that [workflows can call other workflows](https://docs.aws.amazon.com/step-functions/latest/dg/connect-stepfunctions.html), so the team can easily plug your workflow into the broader production architecture for Scones Unlimited.\n",
    "\n",
    "In this next stage you're going to write and deploy three Lambda functions, and then use the Step Functions visual editor to chain them together! Our functions are going to work with a simple data object:\n",
    "\n",
    "```python\n",
    "{\n",
    "    \"inferences\": [], # Output of predictor.predict\n",
    "    \"s3_key\": \"\", # Source data S3 key\n",
    "    \"s3_bucket\": \"\", # Source data S3 bucket\n",
    "    \"image_data\": \"\"  # base64 encoded string containing the image data\n",
    "}\n",
    "```\n",
    "\n",
    "A good test object that you can use for Lambda tests and Step Function executions, throughout the next section, might look like this:\n",
    "\n",
    "```python\n",
    "{\n",
    "  \"image_data\": \"\",\n",
    "  \"s3_bucket\": MY_BUCKET_NAME, # Fill in with your bucket\n",
    "  \"s3_key\": \"test/bicycle_s_000513.png\"\n",
    "}\n",
    "```\n",
    "\n",
    "Using these fields, your functions can read and write the necessary data to execute your workflow. Let's start with the first function. Your first Lambda function will copy an object from S3, base64 encode it, and then return it to the step function as `image_data` in an event.\n",
    "\n",
    "Go to the Lambda dashboard and create a new Lambda function with a descriptive name like \"serializeImageData\" and select thr 'Python 3.8' runtime. Add the same permissions as the SageMaker role you created earlier. (Reminder: you do this in the Configuration tab under \"Permissions\"). Once you're ready, use the starter code below to craft your Lambda handler:\n",
    "\n",
    "### See ./sconesImageSerialize/lambda_function.py\n",
    "\n",
    "The next function is responsible for the classification part - we're going to take the image output from the previous function, decode it, and then pass inferences back to the the Step Function.\n",
    "\n",
    "Because this Lambda will have runtime dependencies (i.e. the SageMaker SDK) you'll need to package them in your function. *Key reading:* https://docs.aws.amazon.com/lambda/latest/dg/python-package-create.html#python-package-create-with-dependency\n",
    "\n",
    "Create a new Lambda function with the same rights and a descriptive name, then fill in the starter code below for your classifier Lambda.\n",
    "\n",
    "### See ./sconesImageClassify/lambda_function.py\n",
    "\n",
    "Finally, we need to filter low-confidence inferences. Define a threshold between 1.00 and 0.000 for your model: what is reasonble for you? If the model predicts at `.70` for it's highest confidence label, do we want to pass that inference along to downstream systems? Make one last Lambda function and tee up the same permissions:\n",
    "\n",
    "### See ./sconesInferenceConfidence/lambda_function.py\n",
    "\n",
    "Once you have tested the lambda functions, save the code for each lambda function in a python script called 'lambda.py'.\n",
    "\n",
    "With your lambdas in place, you can use the Step Functions visual editor to construct a workflow that chains them together. In the Step Functions console you'll have the option to author a Standard step function *Visually*.\n",
    "\n",
    "When the visual editor opens, you'll have many options to add transitions in your workflow. We're going to keep it simple and have just one: to invoke Lambda functions. Add three of them chained together. For each one, you'll be able to select the Lambda functions you just created in the proper order, filter inputs and outputs, and give them descriptive names.\n",
    "\n",
    "Make sure that you:\n",
    "\n",
    "1. Are properly filtering the inputs and outputs of your invokations (e.g. `$.body`)\n",
    "2. Take care to remove the error handling from the last function - it's supposed to \"fail loudly\" for your operations colleagues!\n",
    "\n",
    "Take a screenshot of your working step function in action and export the step function as JSON for your submission package."
   ]
  },
  {
   "cell_type": "markdown",
   "metadata": {},
   "source": [
    "\n",
    "Great! Now you can use the files in `./test` as test files for our workflow. Depending on our threshold, our workflow should reliably pass predictions about images from `./test` on to downstream systems, while erroring out for inferences below our confidence threshold!\n",
    "\n",
    "### Testing and Evaluation\n",
    "\n",
    "Do several step function invokations using data from the `./test` folder. This process should give you confidence that the workflow both *succeeds* AND *fails* as expected. In addition, SageMaker Model Monitor will generate recordings of your data and inferences which we can visualize.\n",
    "\n",
    "Here's a function that can help you generate test inputs for your invokations:"
   ]
  },
  {
   "cell_type": "code",
   "execution_count": null,
   "metadata": {},
   "outputs": [],
   "source": [
    "s3 = boto3.resource('s3')\n",
    "objs = s3.Bucket(bucket).objects\n",
    "#?objs\n",
    "?objs.filter"
   ]
  },
  {
   "cell_type": "code",
   "execution_count": 35,
   "metadata": {},
   "outputs": [
    {
     "data": {
      "text/plain": [
       "'{\"image_data\": \"\", \"s3_bucket\": \"sagemaker-us-east-1-368907551342\", \"s3_key\": \"test/minibike_s_000792.png\"}'"
      ]
     },
     "execution_count": 35,
     "metadata": {},
     "output_type": "execute_result"
    }
   ],
   "source": [
    "def generate_test_case():\n",
    "    # Setup s3 in boto3\n",
    "    s3 = boto3.resource('s3')\n",
    "    \n",
    "    # Randomly pick from sfn or test folders in our bucket\n",
    "    objects = s3.Bucket(bucket).objects.filter(Prefix=\"test\")\n",
    "    \n",
    "    # Grab any random object key from that folder!\n",
    "    obj = random.choice([x.key for x in objects])\n",
    "    \n",
    "    return json.dumps({\n",
    "        \"image_data\": \"\",\n",
    "        \"s3_bucket\": bucket,\n",
    "        \"s3_key\": obj\n",
    "    })\n",
    "generate_test_case()"
   ]
  },
  {
   "cell_type": "code",
   "execution_count": 36,
   "metadata": {},
   "outputs": [],
   "source": [
    "os.environ[\"DEFAULT_S3_BUCKET\"] = bucket"
   ]
  },
  {
   "cell_type": "markdown",
   "metadata": {},
   "source": [
    "In the Step Function dashboard for your new function, you can create new executions and copy in the generated test cases. Do several executions so that you can generate data you can evaluate and visualize.\n",
    "\n",
    "Once you've done several executions, let's visualize the record of our inferences. Pull in the JSONLines data from your inferences like so:"
   ]
  },
  {
   "cell_type": "code",
   "execution_count": 36,
   "metadata": {},
   "outputs": [],
   "source": [
    "# In S3 your data will be saved to a datetime-aware path.\n",
    "# Find a path related to a datetime you're interested in.\n",
    "# This path can contain sub-directories;\n",
    "# for example, you can specify a directory containing an entire day or even a month's worth of data:\n",
    "data_path = \"s3://sagemaker-us-east-1-368907551342/data-capture/sconesClassifierModelEndpoint/AllTraffic/2021/12/23/\"\n",
    "\n",
    "S3Downloader.download(data_path, \"captured_data\")\n",
    "\n",
    "# Feel free to repeat this multiple times and pull in more data"
   ]
  },
  {
   "cell_type": "markdown",
   "metadata": {},
   "source": [
    "The data are in JSONLines format, where multiple valid JSON objects are stacked on top of eachother in a single `jsonl` file. We'll import an open-source library, `jsonlines` that was purpose built for parsing this format."
   ]
  },
  {
   "cell_type": "markdown",
   "metadata": {},
   "source": [
    "Now we can extract the data from each of the source files:"
   ]
  },
  {
   "cell_type": "code",
   "execution_count": 33,
   "metadata": {},
   "outputs": [],
   "source": [
    "!pip install jsonlines\n",
    "import jsonlines\n",
    "import os, fnmatch\n",
    "\n",
    "# If you open any of the files in captured_data with Jupyter,\n",
    "# it will create a .ipynb_checkpoints directory with *checkpoint.jsonl\n",
    "# files in it, which we need to ignore.\n",
    "\n",
    "def find_files(directory, pattern, skip_checkpoints=True):\n",
    "    for root, dirs, files in os.walk(directory):\n",
    "        if skip_checkpoints and root.endswith('.ipynb_checkpoints'):\n",
    "            continue\n",
    "        for basename in files:\n",
    "            if fnmatch.fnmatch(basename, pattern):\n",
    "                filename = os.path.join(root, basename)\n",
    "                yield filename\n",
    "\n",
    "# Dump all the data into an array\n",
    "json_data = []\n",
    "\n",
    "for f in find_files('captured_data', '*.jsonl'):\n",
    "    with jsonlines.open(f) as json_file:\n",
    "        json_data.append(json_file.read())"
   ]
  },
  {
   "cell_type": "markdown",
   "metadata": {},
   "source": [
    "The data should now be a list of dictionaries, with significant nesting. We'll give you an example of some code that grabs data out of the objects and visualizes it:"
   ]
  },
  {
   "cell_type": "code",
   "execution_count": 34,
   "metadata": {},
   "outputs": [
    {
     "data": {
      "text/plain": [
       "([1.9162878743372858e-05, 0.9999808073043823], '2021-12-23T04:52:43Z')"
      ]
     },
     "execution_count": 34,
     "metadata": {},
     "output_type": "execute_result"
    }
   ],
   "source": [
    "# Define how we'll get our data\n",
    "def simple_getter(obj):\n",
    "    inferences = obj[\"captureData\"][\"endpointOutput\"][\"data\"]\n",
    "    timestamp = obj[\"eventMetadata\"][\"inferenceTime\"]\n",
    "    return json.loads(inferences), timestamp\n",
    "\n",
    "simple_getter(json_data[0])"
   ]
  },
  {
   "cell_type": "markdown",
   "metadata": {},
   "source": [
    "Finally, here's an example of a visualization you can build with this data. In this last part, you will take some time and build your own - the captured data has the input images, the resulting inferences, and the timestamps."
   ]
  },
  {
   "cell_type": "code",
   "execution_count": 35,
   "metadata": {},
   "outputs": [
    {
     "data": {
      "image/png": "[encoded data removed]",
      "text/plain": [
       "<Figure size 432x288 with 1 Axes>"
      ]
     },
     "metadata": {},
     "output_type": "display_data"
    }
   ],
   "source": [
    "# Populate the data for the x and y axis\n",
    "x = []\n",
    "y = []\n",
    "for obj in json_data:\n",
    "    inference, timestamp = simple_getter(obj)\n",
    "    \n",
    "    y.append(max(inference))\n",
    "    x.append(timestamp)\n",
    "\n",
    "# Todo: here is an visualization example, take some time to build another visual that helps monitor the result\n",
    "# Plot the data\n",
    "plt.scatter(x, y, c=['r' if k<.94 else 'b' for k in y ])\n",
    "plt.axhline(y=0.94, color='g', linestyle='--')\n",
    "plt.ylim(bottom=.88)\n",
    "\n",
    "# Add labels\n",
    "plt.ylabel(\"Confidence\")\n",
    "plt.suptitle(\"Observed Recent Inferences\", size=14)\n",
    "plt.title(\"Pictured with confidence threshold for production use\", size=10)\n",
    "\n",
    "# Give it some pizzaz!\n",
    "plt.style.use(\"Solarize_Light2\")\n",
    "plt.gcf().autofmt_xdate()"
   ]
  },
  {
   "cell_type": "markdown",
   "metadata": {},
   "source": [
    "### Todo: build your own visualization\n"
   ]
  },
  {
   "cell_type": "markdown",
   "metadata": {},
   "source": [
    "### Congratulations!\n",
    "\n",
    "You've reached the end of the project. In this project you created an event-drivent ML workflow that can be incorporated into the Scones Unlimited production architecture. You used the SageMaker Estimator API to deploy your SageMaker Model and Endpoint, and you used AWS Lambda and Step Functions to orchestrate your ML workflow. Using SageMaker Model Monitor, you instrumented and observed your Endpoint, and at the end of the project you built a visualization to help stakeholders understand the performance of the Endpoint over time. If you're up for it, you can even go further with these stretch goals:\n",
    "\n",
    "* Extend your workflow to incorporate more classes: the CIFAR dataset includes other vehicles that Scones Unlimited can identify with this model.\n",
    "* Modify your event driven workflow: can you rewrite your Lambda functions so that the workflow can process multiple image inputs in parallel? Can the Step Function \"fan out\" to accomodate this new workflow?\n",
    "* Consider the test data generator we provided for you. Can we use it to create a \"dummy data\" generator, to simulate a continuous stream of input data? Or a big paralell load of data?\n",
    "* What if we want to get notified every time our step function errors out? Can we use the Step Functions visual editor in conjunction with a service like SNS to accomplish this? Try it out!\n",
    "\n",
    "\n"
   ]
  }
 ],
 "metadata": {
  "instance_type": "ml.t3.medium",
  "kernelspec": {
   "display_name": "Python 3 (Data Science)",
   "language": "python",
   "name": "python3__SAGEMAKER_INTERNAL__arn:aws:sagemaker:us-east-1:081325390199:image/datascience-1.0"
  },
  "language_info": {
   "codemirror_mode": {
    "name": "ipython",
    "version": 3
   },
   "file_extension": ".py",
   "mimetype": "text/x-python",
   "name": "python",
   "nbconvert_exporter": "python",
   "pygments_lexer": "ipython3",
   "version": "3.7.10"
  }
 },
 "nbformat": 4,
 "nbformat_minor": 4
}
